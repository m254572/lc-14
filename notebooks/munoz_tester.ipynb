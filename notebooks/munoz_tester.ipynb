{
 "cells": [
  {
   "cell_type": "code",
   "execution_count": 2,
   "id": "1794f800-35f0-4724-8068-58546c8b0966",
   "metadata": {},
   "outputs": [],
   "source": [
    "#push what we are working on to github\n",
    "#now that paths are working, pull dataloader into test model notebook and do the work there\n",
    "#need to get under mse of 10\n",
    "#correlation between training size and accuracy, more visuals for the final presentation\n",
    "\n"
   ]
  },
  {
   "cell_type": "code",
   "execution_count": 1,
   "id": "15c4434b-d6bf-41f3-a314-14f98d4994af",
   "metadata": {},
   "outputs": [],
   "source": [
    "import os\n",
    "from glob import glob\n",
    "from warnings import simplefilter"
   ]
  },
  {
   "cell_type": "code",
   "execution_count": 2,
   "id": "7e81f836",
   "metadata": {},
   "outputs": [],
   "source": [
    "simplefilter(action='ignore', category=FutureWarning)\n",
    "simplefilter(action='ignore', category=UserWarning)"
   ]
  },
  {
   "cell_type": "markdown",
   "id": "cfbd8f76",
   "metadata": {},
   "source": [
    "#### Configure path parameters and read data files"
   ]
  },
  {
   "cell_type": "code",
   "execution_count": 3,
   "id": "1eba28e3",
   "metadata": {},
   "outputs": [],
   "source": [
    "ROOT_DIR = '/home/mids/m254572/Capstone'\n",
    "IMAGES_DIR = os.path.join(ROOT_DIR, \"data\", \"aircraft\", \"images\")\n",
    "\n",
    "RADOM_SEED = 2020\n",
    "TRAIN_FRAC = 0.8\n",
    "VAL_FRAC = 0.1"
   ]
  },
  {
   "cell_type": "code",
   "execution_count": 4,
   "id": "a7fbf458",
   "metadata": {},
   "outputs": [
    {
     "name": "stdout",
     "output_type": "stream",
     "text": [
      "/home/mids/m254572/Capstone/data/aircraft/annotations.csv\n"
     ]
    }
   ],
   "source": [
    "image_dir = IMAGES_DIR\n",
    "labels_fp = os.path.join(ROOT_DIR, \"data\", \"aircraft\", \"annotations.csv\")\n",
    "print(labels_fp)"
   ]
  },
  {
   "cell_type": "markdown",
   "id": "3c29963c",
   "metadata": {},
   "source": [
    "#### Load utility functions"
   ]
  },
  {
   "cell_type": "code",
   "execution_count": 5,
   "id": "c30a4905-25a7-4c57-a20f-b93410c179f0",
   "metadata": {},
   "outputs": [],
   "source": [
    "os.chdir(ROOT_DIR)"
   ]
  },
  {
   "cell_type": "code",
   "execution_count": 6,
   "id": "f88d0b71",
   "metadata": {},
   "outputs": [],
   "source": [
    "import torch\n",
    "import torch.nn as nn\n",
    "import albumentations as A\n",
    "from albumentations.pytorch import ToTensorV2\n",
    "\n",
    "from src.utilities.data.aircraft_dataloader import get_dataloader"
   ]
  },
  {
   "cell_type": "markdown",
   "id": "4e0e0e27",
   "metadata": {},
   "source": [
    "#### Define a minimal transformation pipeline"
   ]
  },
  {
   "cell_type": "code",
   "execution_count": 17,
   "id": "68730d06",
   "metadata": {},
   "outputs": [],
   "source": [
    "import albumentations as A\n",
    "from albumentations.pytorch import ToTensorV2\n",
    "\n",
    "transformations = A.Compose([\n",
    "    A.Resize(256, 256),  # Ensure consistent size\n",
    "    A.HorizontalFlip(p=0.5),  # Random horizontal flip\n",
    "    A.RandomBrightnessContrast(p=0.5),  # Random brightness/contrast adjustment\n",
    "    A.Normalize(mean=[0.485, 0.456, 0.406], std=[0.229, 0.224, 0.225]),  # Normalize\n",
    "    ToTensorV2(),  # Convert to tensor\n",
    "])\n",
    "\n"
   ]
  },
  {
   "cell_type": "markdown",
   "id": "c05bab02",
   "metadata": {},
   "source": [
    "#### Building a `torch.Dataloader`."
   ]
  },
  {
   "cell_type": "code",
   "execution_count": 18,
   "id": "87a8871f",
   "metadata": {},
   "outputs": [],
   "source": [
    "# Create the DataLoader\n",
    "dataloader = get_dataloader(\n",
    "  image_dir=image_dir,\n",
    "  labels_fp=labels_fp,\n",
    "  transformations=transformations,\n",
    "  mode='train',\n",
    "  train_frac=TRAIN_FRAC,\n",
    "  val_frac=VAL_FRAC,\n",
    "  seed=RADOM_SEED,\n",
    "  batch_size=1,\n",
    "  shuffle=True,\n",
    "  num_workers=1,\n",
    ")"
   ]
  },
  {
   "cell_type": "markdown",
   "id": "9d56196a",
   "metadata": {},
   "source": [
    "#### Building a baseline MLP using `torch.nn.Module`"
   ]
  },
  {
   "cell_type": "code",
   "execution_count": 22,
   "id": "f66f06fd",
   "metadata": {},
   "outputs": [],
   "source": [
    "\n",
    "import torch\n",
    "import torch.nn as nn\n",
    "\n",
    "\n",
    "class BaselineMLP(nn.Module):\n",
    "    def __init__(self):\n",
    "        super(BaselineMLP, self).__init__()\n",
    "        self.flatten = nn.Flatten()\n",
    "        self.fc1 = nn.Linear(256 * 256 * 3, 128)\n",
    "        self.fc2 = nn.Linear(128, 64)\n",
    "        self.fc3 = nn.Linear(64, 1)\n",
    "        self.dropout = nn.Dropout(p=0.5)\n",
    "        self.ln1 = nn.LayerNorm(128)  # Layer normalization after the first fully connected layer\n",
    "        self.ln2 = nn.LayerNorm(64)   # Layer normalization after the second fully connected layer\n",
    "\n",
    "    def forward(self, x):\n",
    "        x = self.flatten(x)\n",
    "        x = torch.relu(self.fc1(x))\n",
    "        x = self.ln1(x)  # Apply Layer Normalization\n",
    "        x = self.dropout(x)\n",
    "        x = torch.relu(self.fc2(x))\n",
    "        x = self.ln2(x)  # Apply Layer Normalization\n",
    "        x = self.dropout(x)\n",
    "        x = self.fc3(x)\n",
    "        return x"
   ]
  },
  {
   "cell_type": "markdown",
   "id": "57c85278",
   "metadata": {},
   "source": [
    "#### Training the model"
   ]
  },
  {
   "cell_type": "code",
   "execution_count": 44,
   "id": "087c291b",
   "metadata": {},
   "outputs": [],
   "source": [
    "# Basic hyperparameters\n",
    "learning_rate = 1\n",
    "num_epochs = 10"
   ]
  },
  {
   "cell_type": "code",
   "execution_count": 45,
   "id": "947ac355",
   "metadata": {},
   "outputs": [
    {
     "name": "stdout",
     "output_type": "stream",
     "text": [
      "Epoch [1/10], Loss: 598.8333\n",
      "Epoch [2/10], Loss: 396.6664\n",
      "Epoch [3/10], Loss: 13.0013\n",
      "Epoch [4/10], Loss: 2.7498\n",
      "Epoch [5/10], Loss: 245.0599\n",
      "Epoch [6/10], Loss: 66.4982\n",
      "Epoch [7/10], Loss: 156.1909\n",
      "Epoch [8/10], Loss: 85.2911\n",
      "Epoch [9/10], Loss: 55.1097\n",
      "Epoch [10/10], Loss: 8.2829\n"
     ]
    }
   ],
   "source": [
    "\n",
    "import torch.optim as optim\n",
    "import torch.optim.lr_scheduler as lr_scheduler\n",
    "from torch.optim.lr_scheduler import OneCycleLR\n",
    "\n",
    "baseline_mlp_model = BaselineMLP()\n",
    "criterion = nn.MSELoss()  # Mean Squared Error for regression\n",
    "optimizer = torch.optim.Adam(baseline_mlp_model.parameters(), lr=learning_rate)\n",
    "\n",
    "scheduler = OneCycleLR(optimizer, max_lr=learning_rate, steps_per_epoch=len(dataloader), epochs=num_epochs)\n",
    "# Training loop\n",
    "for epoch in range(num_epochs):\n",
    "  for i, (images, targets) in enumerate(dataloader):\n",
    "    if i == len(dataloader) - 1: continue  # save the last batch for demonstration\n",
    "    # Forward pass\n",
    "    outputs = baseline_mlp_model(images)\n",
    "    loss = criterion(outputs.squeeze(), targets)  # Ensure outputs are squeezed to match counts shape\n",
    "\n",
    "    # Backward pass and optimization\n",
    "    optimizer.zero_grad()\n",
    "    loss.backward()\n",
    "    optimizer.step()\n",
    "  scheduler.step()\n",
    "\n",
    "  print(f\"Epoch [{epoch+1}/{num_epochs}], Loss: {loss.item():.4f}\")\n"
   ]
  },
  {
   "cell_type": "markdown",
   "id": "50e1e464",
   "metadata": {},
   "source": [
    "Check the model's prediction on the validation set for a `torch.Dataset` with the same `train_frac`, `val_frac`, and `seed`."
   ]
  },
  {
   "cell_type": "code",
   "execution_count": 46,
   "id": "d595a83e",
   "metadata": {},
   "outputs": [],
   "source": [
    "# Create the DataLoader\n",
    "val_dataloader = get_dataloader(\n",
    "  image_dir,\n",
    "  labels_fp,\n",
    "  transformations=transformations,\n",
    "  mode='val',\n",
    "  train_frac=TRAIN_FRAC,\n",
    "  val_frac=VAL_FRAC,\n",
    "  seed=RADOM_SEED,\n",
    "  batch_size=1,\n",
    "  shuffle=False,\n",
    "  num_workers=1,\n",
    ")"
   ]
  },
  {
   "cell_type": "code",
   "execution_count": 50,
   "id": "09256240",
   "metadata": {},
   "outputs": [
    {
     "name": "stdout",
     "output_type": "stream",
     "text": [
      "val image 1, predicted count: 23.7112, true count: 31.0000\n",
      "val image 2, predicted count: 21.1755, true count: 24.0000\n",
      "val image 3, predicted count: 33.4970, true count: 19.0000\n",
      "val image 4, predicted count: 58.2088, true count: 49.0000\n",
      "val image 5, predicted count: 19.9987, true count: 27.0000\n",
      "val image 6, predicted count: 23.1033, true count: 15.0000\n",
      "val image 7, predicted count: 24.4448, true count: 30.0000\n",
      "val image 8, predicted count: 36.7763, true count: 52.0000\n",
      "val image 9, predicted count: 23.5959, true count: 39.0000\n",
      "val image 10, predicted count: 25.5056, true count: 26.0000\n",
      "Mean absolute error: 8.5601\n"
     ]
    }
   ],
   "source": [
    "losses = []\n",
    "\n",
    "for i, (val_images, targets) in enumerate(val_dataloader):\n",
    "  predicted_counts = baseline_mlp_model(val_images)\n",
    "  # We validate based on the mean absolute error\n",
    "  losses.append(torch.abs(predicted_counts - targets).item())\n",
    "  print(f\"val image {i+1}, predicted count: {predicted_counts.item():.4f}, true count: {targets.item():.4f}\")\n",
    "\n",
    "mean_loss = sum(losses) / len(losses)\n",
    "print(f\"Mean absolute error: {mean_loss:.4f}\")"
   ]
  },
  {
   "cell_type": "code",
   "execution_count": null,
   "id": "c2e798cf",
   "metadata": {},
   "outputs": [],
   "source": []
  },
  {
   "cell_type": "code",
   "execution_count": null,
   "id": "dba243ab-f661-43f4-adb4-139cc62af2fc",
   "metadata": {},
   "outputs": [],
   "source": [
    "#Notes\n",
    "#TEST 1 - BASIC MLP WITH LR OF 10-3 : ERROR OF 10.3\n",
    "#TEST 2 - \n",
    "\n"
   ]
  }
 ],
 "metadata": {
  "kernelspec": {
   "display_name": "Python 3 (ipykernel)",
   "language": "python",
   "name": "python3"
  },
  "language_info": {
   "codemirror_mode": {
    "name": "ipython",
    "version": 3
   },
   "file_extension": ".py",
   "mimetype": "text/x-python",
   "name": "python",
   "nbconvert_exporter": "python",
   "pygments_lexer": "ipython3",
   "version": "3.11.11"
  }
 },
 "nbformat": 4,
 "nbformat_minor": 5
}
